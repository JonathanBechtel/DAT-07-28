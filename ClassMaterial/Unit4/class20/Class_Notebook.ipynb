{
 "cells": [
  {
   "cell_type": "code",
   "execution_count": 1,
   "metadata": {
    "colab": {
     "base_uri": "https://localhost:8080/",
     "height": 398
    },
    "id": "RGmOntzy4q2h",
    "outputId": "eb7de619-1425-46a4-a3c3-068e62d1cd2d"
   },
   "outputs": [],
   "source": [
    "import pandas as pd\n",
    "df = pd.read_csv('https://raw.githubusercontent.com/JonathanBechtel/DAT-07-28/master/ClassMaterial/Unit4/data/IMDB.csv')"
   ]
  },
  {
   "cell_type": "code",
   "execution_count": null,
   "metadata": {
    "id": "D6eXY4uR4z9i"
   },
   "outputs": [],
   "source": [
    "df['sentiment'].replace(['positive', 'negative'], [1, 0], inplace=True)"
   ]
  },
  {
   "cell_type": "code",
   "execution_count": null,
   "metadata": {
    "id": "QYqKYh_fAmQQ"
   },
   "outputs": [],
   "source": [
    "df.head()"
   ]
  },
  {
   "cell_type": "code",
   "execution_count": null,
   "metadata": {
    "id": "4I7xwpOBAnQ7"
   },
   "outputs": [],
   "source": [
    "import tensorflow as tf\n",
    "from tensorflow import keras\n",
    "from sklearn.model_selection import train_test_split\n",
    "from keras.preprocessing.text import Tokenizer\n",
    "from keras.preprocessing.sequence import pad_sequences"
   ]
  },
  {
   "cell_type": "code",
   "execution_count": null,
   "metadata": {
    "id": "wkVH7VC_A7i1"
   },
   "outputs": [],
   "source": [
    "X = df['review']\n",
    "y = df['sentiment']\n",
    "\n",
    "X_train, X_test, y_train, y_test = train_test_split(X, y, test_size=0.2, random_state=42)"
   ]
  },
  {
   "cell_type": "code",
   "execution_count": null,
   "metadata": {
    "id": "ebLv8GwQBjo0"
   },
   "outputs": [],
   "source": [
    "tokenizer = Tokenizer(num_words=10000)"
   ]
  },
  {
   "cell_type": "code",
   "execution_count": null,
   "metadata": {
    "id": "eMIfRKYxB379"
   },
   "outputs": [],
   "source": [
    "tokenizer.fit_on_texts(X_train)"
   ]
  },
  {
   "cell_type": "code",
   "execution_count": null,
   "metadata": {
    "id": "MpxRuwBDB_Ub"
   },
   "outputs": [],
   "source": [
    "tokenizer.word_index"
   ]
  },
  {
   "cell_type": "code",
   "execution_count": null,
   "metadata": {
    "id": "Z8VvMgZ7CIte"
   },
   "outputs": [],
   "source": [
    "train_sequences = tokenizer.texts_to_sequences(X_train)\n",
    "test_sequences = tokenizer.texts_to_sequences(X_test)"
   ]
  },
  {
   "cell_type": "code",
   "execution_count": null,
   "metadata": {
    "id": "Ga3bQlW8CbNW"
   },
   "outputs": [],
   "source": [
    "train_sequences[0]"
   ]
  },
  {
   "cell_type": "code",
   "execution_count": null,
   "metadata": {
    "id": "l1cRLEoVC5iX"
   },
   "outputs": [],
   "source": [
    "train_sequences[15]"
   ]
  },
  {
   "cell_type": "code",
   "execution_count": null,
   "metadata": {
    "id": "578MsoUdDHa_"
   },
   "outputs": [],
   "source": [
    "tokenizer.word_index"
   ]
  },
  {
   "cell_type": "code",
   "execution_count": null,
   "metadata": {
    "id": "RoSw79ZDDNsa"
   },
   "outputs": [],
   "source": [
    "train_sequences = pad_sequences(train_sequences, maxlen=150)\n",
    "test_sequences = pad_sequences(test_sequences, maxlen=150)"
   ]
  },
  {
   "cell_type": "code",
   "execution_count": null,
   "metadata": {
    "id": "KSxzrzReDoBC"
   },
   "outputs": [],
   "source": [
    "train_sequences[5]"
   ]
  },
  {
   "cell_type": "code",
   "execution_count": null,
   "metadata": {
    "id": "OqVKBWr2Ds8G"
   },
   "outputs": [],
   "source": [
    "# Sequential model means layers are defined in order\n",
    "mod = keras.models.Sequential([\n",
    "      # Embeddings are neural network layers that map word indices to weights\n",
    "      keras.layers.Embedding(10000, 25, input_length=150),\n",
    "      # This reshapes your data to two dimensions -- is 3 dimensions coming out of a word embedding\n",
    "      keras.layers.Flatten(),\n",
    "      # this multiplies the data from the word embedding onto another set of weights\n",
    "      keras.layers.Dense(50, activation='relu'),\n",
    "      keras.layers.Dense(50, activation='relu'), \n",
    "      # 1 refers to the number of predictions we want to make\n",
    "      # Dense layers are usually the LAST layer in your neural network\n",
    "      keras.layers.Dense(1, activation='sigmoid')\n",
    "])"
   ]
  },
  {
   "cell_type": "code",
   "execution_count": null,
   "metadata": {
    "id": "zgBzcSDOI5B0"
   },
   "outputs": [],
   "source": [
    "mod.summary()"
   ]
  },
  {
   "cell_type": "code",
   "execution_count": null,
   "metadata": {
    "id": "5QCt64WqPlAI"
   },
   "outputs": [],
   "source": [
    "train_sequences[0]"
   ]
  },
  {
   "cell_type": "code",
   "execution_count": null,
   "metadata": {
    "id": "UW6km1fvI68M"
   },
   "outputs": [],
   "source": [
    "# compile specifies how your model will be trained\n",
    "# optimizer -- how do you update the weights?\n",
    "# loss -- how does the model fit itself?  binary_crossentropy -- standard loss for binary classification\n",
    "mod.compile(optimizer='adam', loss='binary_crossentropy', metrics=['acc'])"
   ]
  },
  {
   "cell_type": "code",
   "execution_count": null,
   "metadata": {
    "id": "nUnJYocDd6YT"
   },
   "outputs": [],
   "source": [
    "# keras only accepts numpy arrays\n",
    "mod.fit(train_sequences, y_train.values, validation_split=0.2, epochs=10)"
   ]
  },
  {
   "cell_type": "code",
   "execution_count": null,
   "metadata": {
    "id": "x1OmDyPYVqlS"
   },
   "outputs": [],
   "source": [
    "mod"
   ]
  },
  {
   "cell_type": "code",
   "execution_count": null,
   "metadata": {
    "id": "JUz16V0aVsK4"
   },
   "outputs": [],
   "source": []
  }
 ],
 "metadata": {
  "colab": {
   "name": "Class Notebook.ipynb",
   "provenance": []
  },
  "kernelspec": {
   "display_name": "Python 3",
   "language": "python",
   "name": "python3"
  },
  "language_info": {
   "codemirror_mode": {
    "name": "ipython",
    "version": 3
   },
   "file_extension": ".py",
   "mimetype": "text/x-python",
   "name": "python",
   "nbconvert_exporter": "python",
   "pygments_lexer": "ipython3",
   "version": "3.7.3"
  }
 },
 "nbformat": 4,
 "nbformat_minor": 1
}
